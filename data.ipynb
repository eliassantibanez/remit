{
 "cells": [
  {
   "cell_type": "code",
   "execution_count": 1,
   "metadata": {},
   "outputs": [],
   "source": [
    "import pandas as pd"
   ]
  },
  {
   "cell_type": "code",
   "execution_count": 2,
   "metadata": {},
   "outputs": [],
   "source": [
    "import sqlite3 as sql"
   ]
  },
  {
   "cell_type": "code",
   "execution_count": 4,
   "metadata": {},
   "outputs": [],
   "source": [
    "pd.options.display.max_rows = 1000\n",
    "pd.options.display.width = 0\n",
    "df  = pd.read_excel(\"data/fy2021cobbook9.xls\", engine=\"xlrd\",header=0,nrows=73)\n"
   ]
  },
  {
   "cell_type": "code",
   "execution_count": 8,
   "metadata": {},
   "outputs": [],
   "source": [
    "df.iloc[2,0].replace(\"Region/Country: \",\"\")\n",
    "df[\"Region/Country\"] = df.iloc[2,0].replace(\"Region/Country: \",\"\")\n",
    "df.columns = df.iloc[4]\n",
    "df = df.rename(columns={df.iloc[1][-1]:\"Region/Country\"})\n",
    "df = df.iloc[7:]\n",
    "df = df.drop(columns=\"Total\")"
   ]
  },
  {
   "cell_type": "code",
   "execution_count": 28,
   "metadata": {},
   "outputs": [],
   "source": [
    "age = df.iloc[3:12]\n",
    "age =age.iloc[1:]\n",
    "age = age.rename(columns={\"Characteristic\":\"Age\"})\n",
    "age = age.melt(id_vars=[\"Age\"],value_vars=[\"Female\",\"Male\",\"Unknown\"],var_name=\"Sex\",value_name=\"Count\")"
   ]
  },
  {
   "cell_type": "code",
   "execution_count": 55,
   "metadata": {},
   "outputs": [],
   "source": [
    "marital = df.iloc[14:18]\n",
    "marital = marital.melt(id_vars=[\"Characteristic\"],value_vars=[\"Female\",\"Male\",\"Unknown\"],var_name=\"Sex\",value_name=\"Count\")\n",
    "marital = marital.rename(columns={\"Characteristic\":\"Marital_status\"})"
   ]
  },
  {
   "cell_type": "code",
   "execution_count": 78,
   "metadata": {},
   "outputs": [],
   "source": [
    "occupations = df.iloc[20:33]\n",
    "occupations = occupations.rename(columns={\"Characteristic\":\"Occupations\"})\n",
    "occupations = occupations.melt(id_vars=[\"Occupations\"],value_vars=[\"Female\",\"Male\",\"Unknown\"],var_name=\"Sex\",value_name=\"Count\")"
   ]
  },
  {
   "cell_type": "code",
   "execution_count": 101,
   "metadata": {},
   "outputs": [],
   "source": [
    "admission_class = df.iloc[35:41]\n",
    "admission_class = admission_class.rename(columns={\"Characteristic\":\"admission_class\"})\n",
    "admission_class = admission_class.melt(id_vars=[\"admission_class\"],value_vars=[\"Female\",\"Male\",\"Unknown\"],var_name=\"Sex\",value_name=\"Count\")"
   ]
  },
  {
   "cell_type": "code",
   "execution_count": 113,
   "metadata": {},
   "outputs": [],
   "source": [
    "states = df.iloc[43:65]\n",
    "states = states.rename(columns={\"Characteristic\":\"States\"})\n",
    "states = states.melt(id_vars=[\"States\"],value_vars=[\"Female\",\"Male\",\"Unknown\"],var_name=\"Sex\",value_name=\"Count\")"
   ]
  }
 ],
 "metadata": {
  "interpreter": {
   "hash": "7daa0d4bf7d9832ecbed35672e4713eb7ac02d47de1d2bb67748262634aa87d4"
  },
  "kernelspec": {
   "display_name": "Python 3.10.4 ('dev')",
   "language": "python",
   "name": "python3"
  },
  "language_info": {
   "codemirror_mode": {
    "name": "ipython",
    "version": 3
   },
   "file_extension": ".py",
   "mimetype": "text/x-python",
   "name": "python",
   "nbconvert_exporter": "python",
   "pygments_lexer": "ipython3",
   "version": "3.10.4"
  },
  "orig_nbformat": 4
 },
 "nbformat": 4,
 "nbformat_minor": 2
}
